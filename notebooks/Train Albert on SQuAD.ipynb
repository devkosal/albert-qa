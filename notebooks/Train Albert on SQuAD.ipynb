{
 "cells": [
  {
   "cell_type": "markdown",
   "metadata": {},
   "source": [
    "# Using ALBERT for Question Answering - SQuAD"
   ]
  },
  {
   "cell_type": "code",
   "execution_count": 1,
   "metadata": {},
   "outputs": [],
   "source": [
    "#export\n",
    "import os"
   ]
  },
  {
   "cell_type": "code",
   "execution_count": 2,
   "metadata": {},
   "outputs": [],
   "source": [
    "os.chdir(\"../\")"
   ]
  },
  {
   "cell_type": "code",
   "execution_count": 3,
   "metadata": {
    "ExecuteTime": {
     "end_time": "2020-02-03T17:42:53.355595Z",
     "start_time": "2020-02-03T17:42:52.410125Z"
    },
    "scrolled": true
   },
   "outputs": [],
   "source": [
    "#export\n",
    "from transformers import AutoTokenizer,PretrainedConfig\n",
    "import numpy as np\n",
    "import pandas as pd\n",
    "import pickle\n",
    "import re\n",
    "import requests\n",
    "import json\n",
    "from src import *\n",
    "import fire"
   ]
  },
  {
   "cell_type": "markdown",
   "metadata": {
    "heading_collapsed": true
   },
   "source": [
    "# Loading the data"
   ]
  },
  {
   "cell_type": "code",
   "execution_count": 4,
   "metadata": {
    "ExecuteTime": {
     "end_time": "2020-02-03T17:43:09.273451Z",
     "start_time": "2020-02-03T17:43:08.263277Z"
    },
    "hidden": true
   },
   "outputs": [],
   "source": [
    "#export\n",
    "def load_dfs(config):\n",
    "    train = pd.read_csv(config.data_path+f\"/train_{config.squad_version}_{config.model_name}.csv\")\n",
    "    valid = pd.read_csv(config.data_path+f\"/val_{config.squad_version}_{config.model_name}.csv\")\n",
    "\n",
    "    train.drop_duplicates(inplace=True)\n",
    "    valid.drop_duplicates(inplace=True)\n",
    "\n",
    "    # randomizing the order of training data\n",
    "    train = train.sample(frac=1).reset_index(drop=True) #random_state = config.seed\n",
    "    valid = valid.sample(frac=1).reset_index(drop=True)\n",
    "\n",
    "    # reduce df sizes if testing\n",
    "    if config.testing:\n",
    "        train = train[:int(len(train)/config.data_reduction)]\n",
    "        valid = valid[:int(len(valid)/config.data_reduction)]\n",
    "\n",
    "    return remove_max_sl(train, config.max_seq_len), remove_max_sl(valid, config.max_seq_len)"
   ]
  },
  {
   "cell_type": "markdown",
   "metadata": {
    "heading_collapsed": true
   },
   "source": [
    "# Creating Dataloaders"
   ]
  },
  {
   "cell_type": "code",
   "execution_count": 5,
   "metadata": {
    "ExecuteTime": {
     "end_time": "2020-02-03T17:43:09.899469Z",
     "start_time": "2020-02-03T17:43:09.692930Z"
    },
    "hidden": true
   },
   "outputs": [],
   "source": [
    "#export\n",
    "def make_dataloaders(config, train_df, valid_df):\n",
    "    tok = AutoTokenizer.from_pretrained(config.model)\n",
    "    \n",
    "    proc_tok = QATokenizerProcessor(tok.tokenize, config.max_seq_len, config.start_tok, config.end_tok)\n",
    "\n",
    "    vocab = {tok.convert_ids_to_tokens(i):i for i in range(tok.vocab_size)}\n",
    "    proc_num = QANumericalizeProcessor(vocab, unk_tok_idx=config.unk_tok_idx)\n",
    "    proc_qa = QALabelProcessor(str2tensor,config.adjustment)\n",
    "\n",
    "    if (not (os.path.exists(config.data_path+f\"/squad_{config.squad_version}_data_trn.pkl\"))) or config.recreate_ds or config.testing:\n",
    "        il_train = SquadTextList.from_df(train_df,config.feat_cols,config.label_cols,config.sep_tok)\n",
    "        il_valid = SquadTextList.from_df(valid_df,config.feat_cols,config.label_cols,config.sep_tok)\n",
    "\n",
    "        ll_valid = LabeledData(il_valid,il_valid.labels,proc_x = [proc_tok,proc_num], proc_y=[proc_qa])\n",
    "        ll_train = LabeledData(il_train,il_train.labels,proc_x = [proc_tok,proc_num], proc_y=[proc_qa])\n",
    "\n",
    "        # saving/loading presaved data if not testing\n",
    "        if not config.testing:\n",
    "            # save an object\n",
    "            pickle.dump(ll_train, open( config.data_path+f\"/squad_{config.squad_version}_data_trn.pkl\", \"wb\" ) )\n",
    "            pickle.dump(ll_valid, open( config.data_path+f\"/squad_{config.squad_version}_data_val.pkl\", \"wb\" ) )\n",
    "    else:\n",
    "        # load an object\n",
    "        ll_train = pickle.load( open( config.data_path+f\"/squad_{config.squad_version}_data_trn.pkl\", \"rb\" ) )\n",
    "        ll_valid = pickle.load( open( config.data_path+f\"/squad_{config.squad_version}_data_val.pkl\", \"rb\" ) )\n",
    "\n",
    "    collate_fn = partial(pad_collate_qa,pad_idx=config.pad_idx)\n",
    "    \n",
    "    train_sampler = SortishSampler(ll_train.x, key=lambda t: len(ll_train[int(t)][0]), bs=config.bs)\n",
    "    train_dl = DataLoader(ll_train, batch_size=config.bs, sampler=train_sampler, collate_fn=collate_fn)\n",
    "    \n",
    "    valid_sampler = SortSampler(ll_valid.x, key=lambda t: len(ll_valid[int(t)][0]))\n",
    "    valid_dl = DataLoader(ll_valid, batch_size=config.bs, sampler=valid_sampler, collate_fn=collate_fn)\n",
    "\n",
    "    return DataBunch(train_dl,valid_dl)"
   ]
  },
  {
   "cell_type": "markdown",
   "metadata": {},
   "source": [
    "# Defining Model & Learner"
   ]
  },
  {
   "cell_type": "code",
   "execution_count": 7,
   "metadata": {
    "ExecuteTime": {
     "start_time": "2020-02-03T17:43:07.934Z"
    }
   },
   "outputs": [],
   "source": [
    "#export\n",
    "def get_learner(config, data, opt_func):\n",
    "    model = AlbertForQuestionAnsweringMTL.from_pretrained(config.weights) if config.load_checkpoint else AlbertForQuestionAnsweringMTL(config)\n",
    "\n",
    "    # setting up callbacks\n",
    "    cbfs = [partial(QAAvgStatsCallback,[acc_qa,acc_pos,exact_match,f1_score]),\n",
    "            ProgressCallback,\n",
    "            Recorder]\n",
    "    if torch.cuda.is_available(): cbfs.append(CudaCallbackMTL)\n",
    "    \n",
    "    if not config.testing and config.save_checkpoint:\n",
    "        cbfs.append(partial(SaveModelCallback,save_model_qa,config.output_dir,config.model,config.squad_version))\n",
    "    \n",
    "    if config.effective_bs and config.bs != config.effective_bs:\n",
    "        cbfs.append(partial(GradientAccumulation,config.bs,config.effective_bs))\n",
    "        \n",
    "    if config.stats_update_freq is not None: cbfs.append(partial(TrainStatsCallback,config.stats_update_freq))\n",
    "\n",
    "    learn = Learner(model, data, cross_entropy_qa_mtl,lr=config.max_lr,cb_funcs=cbfs,splitter=albert_splitter,\\\n",
    "                opt_func=opt_func)\n",
    "    return learn"
   ]
  },
  {
   "cell_type": "code",
   "execution_count": 8,
   "metadata": {},
   "outputs": [],
   "source": [
    "config = Config(\n",
    "    data_path = \"../data/SQuAD/2.0\", # replace with the directory containing the parsed csv files\n",
    "    output_dir = \"./models\", # for storing model weights between epochs\n",
    "    task = \"SQuAD\",\n",
    "    squad_version = \"2.0\",\n",
    "    testing=True,\n",
    "    data_reduction = 1000, # reduce df sizes by this amount while testing \n",
    "    seed = 2020,\n",
    "    model = \"albert-base-v2\",\n",
    "    max_lr=3e-5,\n",
    "    max_lr_last = 1e-4,\n",
    "    phases = .3,\n",
    "    optimizer=\"lamb\", # choose between 'adam' or 'lamb'\n",
    "    epochs=1,\n",
    "    use_fp16=False,\n",
    "    recreate_ds=False,\n",
    "    bs=4, \n",
    "    effective_bs=4, # set this different from bs to determine gradient accumulation steps (i.e. effective_bs/bs)\n",
    "    max_seq_len=512,\n",
    "    start_tok = \"[CLS]\",\n",
    "    end_tok = \"[SEP]\",\n",
    "    sep_tok = \"[SEP]\",\n",
    "    unk_tok_idx=1,\n",
    "    sep_idx=3,\n",
    "    pad_idx=0,\n",
    "    feat_cols = [\"question\",\"paragraph\"],\n",
    "    label_cols = [\"idxs\",\"is_impossible\"],\n",
    "    adjustment = 2,\n",
    "    save_checkpoint = True,\n",
    "    load_checkpoint=None,#\"2.0/base\",\n",
    "    layer_norm_eps = 1e-12,\n",
    "    num_labels_clas = 2,\n",
    "    clas_dropout_prob = .1,\n",
    "    stats_update_freq = .1,\n",
    ")"
   ]
  },
  {
   "cell_type": "code",
   "execution_count": 9,
   "metadata": {},
   "outputs": [],
   "source": [
    "#export\n",
    "def main(config):\n",
    "    if isinstance(config, str): config = Config(**json.load(open(config,\"r\")))\n",
    "    assert type(config) == Config, f\"config parameter type must be Config or a path to a json file\"\n",
    "    if config.effective_bs: \n",
    "        assert config.effective_bs >= config.bs, f\"mini bs ({config.bs}) cannot be smaller than effective bs ({config.effective_bs})\"\n",
    "        assert config.effective_bs % config.bs == 0, \"mini bs ({config.bs}) should be a factor of the effective bs ({config.effective_bs})\"\n",
    "    \n",
    "    model_name = re.findall(r\"(.+?)-\",config.model)[0]\n",
    "    weights = config.output_dir+f\"/{config.load_checkpoint}\" if config.load_checkpoint else config.model\n",
    "    r = requests.get(f\"https://s3.amazonaws.com/models.huggingface.co/bert/{config.model}-config.json\")\n",
    "    config = PretrainedConfig(**config,**r.json(),weights=weights)\n",
    "    config.model_name=model_name\n",
    "    train,valid = load_dfs(config)\n",
    "    data = make_dataloaders(config, train, valid)\n",
    "\n",
    "    # set LR scheduler\n",
    "    disc_lr_sched = sched_1cycle([config.max_lr,config.max_lr_last], config.phases)\n",
    "\n",
    "    # set optimizer\n",
    "    assert config.optimizer.lower() in [\"adam\",\"lamb\"], f\"invalid optimizer in config {config.optimizer}\"\n",
    "    opt_func = lamb_opt() if config.optimizer.lower() == \"lamb\" else adam_opt()\n",
    "\n",
    "    learn = get_learner(config, data, opt_func)\n",
    "    learn.fit(config.epochs,cbs=disc_lr_sched)"
   ]
  },
  {
   "cell_type": "code",
   "execution_count": 10,
   "metadata": {},
   "outputs": [],
   "source": [
    "main(config) "
   ]
  },
  {
   "cell_type": "code",
   "execution_count": 11,
   "metadata": {},
   "outputs": [],
   "source": [
    "#export\n",
    "if __name__ == \"__main__\":\n",
    "    fire.Fire(main)"
   ]
  }
 ],
 "metadata": {
  "kernelspec": {
   "display_name": "Python 3 (qa)",
   "language": "python",
   "name": "qa"
  },
  "language_info": {
   "codemirror_mode": {
    "name": "ipython",
    "version": 3
   },
   "file_extension": ".py",
   "mimetype": "text/x-python",
   "name": "python",
   "nbconvert_exporter": "python",
   "pygments_lexer": "ipython3",
   "version": "3.7.6"
  }
 },
 "nbformat": 4,
 "nbformat_minor": 2
}
