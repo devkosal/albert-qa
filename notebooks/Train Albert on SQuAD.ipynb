{
 "cells": [
  {
   "cell_type": "markdown",
   "metadata": {},
   "source": [
    "# Using ALBERT for Question Answering - SQuAD"
   ]
  },
  {
   "cell_type": "code",
   "execution_count": null,
   "metadata": {},
   "outputs": [],
   "source": [
    "#export\n",
    "import os"
   ]
  },
  {
   "cell_type": "code",
   "execution_count": 1,
   "metadata": {},
   "outputs": [],
   "source": [
    "os.chdir(\"../\")"
   ]
  },
  {
   "cell_type": "code",
   "execution_count": 10,
   "metadata": {
    "ExecuteTime": {
     "end_time": "2020-02-03T17:42:53.355595Z",
     "start_time": "2020-02-03T17:42:52.410125Z"
    },
    "scrolled": true
   },
   "outputs": [],
   "source": [
    "#export\n",
    "from transformers import AutoTokenizer,PretrainedConfig\n",
    "import numpy as np\n",
    "import pandas as pd\n",
    "import pickle\n",
    "import re\n",
    "import requests\n",
    "import json\n",
    "from src import *\n",
    "import fire"
   ]
  },
  {
   "cell_type": "markdown",
   "metadata": {
    "heading_collapsed": true
   },
   "source": [
    "# Loading the data"
   ]
  },
  {
   "cell_type": "code",
   "execution_count": 3,
   "metadata": {
    "ExecuteTime": {
     "end_time": "2020-02-03T17:43:09.273451Z",
     "start_time": "2020-02-03T17:43:08.263277Z"
    },
    "hidden": true
   },
   "outputs": [],
   "source": [
    "#export\n",
    "def load_dfs(config):\n",
    "    train = pd.read_csv(config.data_path+f\"/train_{config.squad_version}_{config.model_name}.csv\")\n",
    "    valid = pd.read_csv(config.data_path+f\"/val_{config.squad_version}_{config.model_name}.csv\")\n",
    "\n",
    "    train.drop_duplicates(inplace=True)\n",
    "    valid.drop_duplicates(inplace=True)\n",
    "\n",
    "    # randomizing the order of training data\n",
    "    train = train.sample(frac=1).reset_index(drop=True) #random_state = config.seed\n",
    "    valid = valid.sample(frac=1).reset_index(drop=True)\n",
    "\n",
    "    # reduce df sizes if testing\n",
    "    if config.testing:\n",
    "        train = train[:int(len(train)/1000)]\n",
    "        valid = valid[:int(len(valid)/1000)]\n",
    "\n",
    "    return remove_max_sl(train, config.max_seq_len), remove_max_sl(valid, config.max_seq_len)"
   ]
  },
  {
   "cell_type": "markdown",
   "metadata": {
    "heading_collapsed": true
   },
   "source": [
    "# Creating Dataloaders"
   ]
  },
  {
   "cell_type": "code",
   "execution_count": 4,
   "metadata": {
    "ExecuteTime": {
     "end_time": "2020-02-03T17:43:09.899469Z",
     "start_time": "2020-02-03T17:43:09.692930Z"
    },
    "hidden": true
   },
   "outputs": [],
   "source": [
    "#export\n",
    "def make_dataloaders(config, train_df, valid_df):\n",
    "    tok = AutoTokenizer.from_pretrained(config.model)\n",
    "    \n",
    "    proc_tok = QATokenizerProcessor(tok.tokenize, config.max_seq_len, config.start_tok, config.end_tok)\n",
    "\n",
    "    vocab = {tok.convert_ids_to_tokens(i):i for i in range(tok.vocab_size)}\n",
    "    proc_num = QANumericalizeProcessor(vocab, unk_tok_idx=config.unk_tok_idx)\n",
    "    proc_qa = QALabelProcessor(str2tensor,config.adjustment)\n",
    "\n",
    "    if (not (os.path.exists(config.data_path+f\"/squad_{config.squad_version}_data_trn.pkl\"))) or config.recreate_ds or config.testing:\n",
    "        il_train = SquadTextList.from_df(train_df,config.feat_cols,config.label_cols,config.sep_tok)\n",
    "        il_valid = SquadTextList.from_df(valid_df,config.feat_cols,config.label_cols,config.sep_tok)\n",
    "\n",
    "        ll_valid = LabeledData(il_valid,il_valid.labels,proc_x = [proc_tok,proc_num], proc_y=[proc_qa])\n",
    "        ll_train = LabeledData(il_train,il_train.labels,proc_x = [proc_tok,proc_num], proc_y=[proc_qa])\n",
    "\n",
    "        # saving/loading presaved data if not testing\n",
    "        if not config.testing:\n",
    "            # save an object\n",
    "            pickle.dump(ll_train, open( config.data_path+f\"/squad_{config.squad_version}_data_trn.pkl\", \"wb\" ) )\n",
    "            pickle.dump(ll_valid, open( config.data_path+f\"/squad_{config.squad_version}_data_val.pkl\", \"wb\" ) )\n",
    "    else:\n",
    "        # load an object\n",
    "        ll_train = pickle.load( open( config.data_path+f\"/squad_{config.squad_version}_data_trn.pkl\", \"rb\" ) )\n",
    "        ll_valid = pickle.load( open( config.data_path+f\"/squad_{config.squad_version}_data_val.pkl\", \"rb\" ) )\n",
    "\n",
    "    collate_fn = partial(pad_collate_qa,pad_idx=config.pad_idx)\n",
    "    \n",
    "    train_sampler = SortishSampler(ll_train.x, key=lambda t: len(ll_train[int(t)][0]), bs=config.bs)\n",
    "    train_dl = DataLoader(ll_train, batch_size=config.bs, sampler=train_sampler, collate_fn=collate_fn)\n",
    "    \n",
    "    valid_sampler = SortSampler(ll_valid.x, key=lambda t: len(ll_valid[int(t)][0]))\n",
    "    valid_dl = DataLoader(ll_valid, batch_size=config.bs, sampler=valid_sampler, collate_fn=collate_fn)\n",
    "\n",
    "    return DataBunch(train_dl,valid_dl)"
   ]
  },
  {
   "cell_type": "markdown",
   "metadata": {},
   "source": [
    "# Defining Model & Learner"
   ]
  },
  {
   "cell_type": "code",
   "execution_count": 5,
   "metadata": {},
   "outputs": [],
   "source": [
    "#export\n",
    "def get_learner(config):\n",
    "    model = AlbertForQuestionAnsweringMTL(config)\n",
    "\n",
    "    # setting up callbacks\n",
    "    cbfs = [partial(QAAvgStatsCallback,[acc_qa,acc_pos,exact_match,f1_score]),\n",
    "            ProgressCallback,\n",
    "            Recorder]\n",
    "    if torch.cuda.is_available(): cbfs.append(CudaCallbackMTL)\n",
    "    if not config.testing and config.save_checkpoint: \n",
    "        cbfs.append(partial(SaveModelCallback,save_model_qa,config.output_dir,config.model,config.squad_version))\n",
    "    if config.effective_bs and config.bs != config.effective_bs:\n",
    "        cbfs.append(partial(GradientAccumulation,config.bs,config.effective_bs))\n",
    "    if config.stats_update_freq is not None: cbfs.append(partial(TrainStatsCallback,config.stats_update_freq))\n",
    "\n",
    "    learn = Learner(model, data, cross_entropy_qa_mtl,lr=config.max_lr,cb_funcs=cbfs,splitter=albert_splitter,\\\n",
    "                opt_func=config.opt_func)\n",
    "    return learn"
   ]
  },
  {
   "cell_type": "code",
   "execution_count": 6,
   "metadata": {
    "ExecuteTime": {
     "start_time": "2020-02-03T17:43:07.934Z"
    }
   },
   "outputs": [],
   "source": [
    "#export\n",
    "def get_learner(config, data, opt_func):\n",
    "    model = AlbertForQuestionAnsweringMTL.from_pretrained(config.weights)\n",
    "    \n",
    "    # setting up callbacks\n",
    "    cbfs = [partial(QAAvgStatsCallback,[acc_qa,acc_pos,exact_match,f1_score]),\n",
    "            ProgressCallback,\n",
    "            Recorder]\n",
    "    if torch.cuda.is_available(): cbfs.append(CudaCallbackMTL)\n",
    "    if not config.testing and config.save_checkpoint: \n",
    "        cbfs.append(partial(SaveModelCallback,save_model_qa,config.output_dir,config.model,config.squad_version))\n",
    "    if config.effective_bs and config.bs != config.effective_bs:\n",
    "        cbfs.append(partial(GradientAccumulation,config.bs,config.effective_bs))\n",
    "    if config.stats_update_freq is not None: cbfs.append(partial(TrainStatsCallback,config.stats_update_freq))\n",
    "\n",
    "    learn = Learner(model, data, cross_entropy_qa_mtl,lr=config.max_lr,cb_funcs=cbfs,splitter=albert_splitter,\\\n",
    "                opt_func=opt_func)\n",
    "    return learn"
   ]
  },
  {
   "cell_type": "code",
   "execution_count": 7,
   "metadata": {},
   "outputs": [],
   "source": [
    "config = Config(\n",
    "    data_path = \"../data/SQuAD/2.0\", # replace with the directory containing the parsed csv files\n",
    "    output_dir = \"./models\", # for storing model weights between epochs\n",
    "    task = \"SQuAD\",\n",
    "    squad_version = \"2.0\",\n",
    "    testing=True,\n",
    "    seed = 2020,\n",
    "    model = \"albert-base-v2\",\n",
    "    max_lr=3e-5,\n",
    "    max_lr_last = 1e-4,\n",
    "    phases = .3,\n",
    "    optimizer=\"lamb\", # choose between 'adam' or 'lamb'\n",
    "    epochs=2,\n",
    "    use_fp16=False,\n",
    "    recreate_ds=False,\n",
    "    bs=4, \n",
    "    effective_bs=4, # set this different from bs to determine gradient accumulation steps (i.e. effective_bs/bs)\n",
    "    max_seq_len=512,\n",
    "    start_tok = \"[CLS]\",\n",
    "    end_tok = \"[SEP]\",\n",
    "    sep_tok = \"[SEP]\",\n",
    "    unk_tok_idx=1,\n",
    "    sep_idx=3,\n",
    "    pad_idx=0,\n",
    "    feat_cols = [\"question\",\"paragraph\"],\n",
    "    label_cols = [\"idxs\",\"is_impossible\"],\n",
    "    adjustment = 2,\n",
    "    save_checkpoint = True,\n",
    "    load_checkpoint=\"2.0/base\",\n",
    "    layer_norm_eps = 1e-12,\n",
    "    num_labels_clas = 2,\n",
    "    clas_dropout_prob = .1,\n",
    "    stats_update_freq = .1,\n",
    ")"
   ]
  },
  {
   "cell_type": "code",
   "execution_count": 8,
   "metadata": {},
   "outputs": [],
   "source": [
    "#export\n",
    "def main(config):\n",
    "    if isinstance(config, str): config = Config(**json.load(open(config,\"r\")))\n",
    "    assert type(config) == Config, f\"config parameter type must be Config or a path to a json file\"\n",
    "    model_name = re.findall(r\"(.+?)-\",config.model)[0]\n",
    "    weights = config.output_dir+f\"/{config.load_checkpoint}\" if config.load_checkpoint else config.model \n",
    "    r = requests.get(f\"https://s3.amazonaws.com/models.huggingface.co/bert/{config.model}-config.json\")\n",
    "    config = PretrainedConfig(**config,**r.json(),model_name=model_name,weights=weights)\n",
    "    \n",
    "    train,valid = load_dfs(config)\n",
    "    data = make_dataloaders(config, train, valid)\n",
    "    \n",
    "    # set LR scheduler\n",
    "    disc_lr_sched = sched_1cycle([config.max_lr,config.max_lr_last], config.phases) \n",
    "    \n",
    "    # set optimizer\n",
    "    assert config.optimizer.lower() in [\"adam\",\"lamb\"], f\"invalid optimizer in config {config.optimizer}\"\n",
    "    opt_func = lamb_opt() if config.optimizer.lower() == \"lamb\" else adam_opt()\n",
    "\n",
    "    learn = get_learner(config, data, opt_func)\n",
    "    learn.fit(config.epochs,cbs=disc_lr_sched)"
   ]
  },
  {
   "cell_type": "code",
   "execution_count": 9,
   "metadata": {},
   "outputs": [
    {
     "name": "stdout",
     "output_type": "stream",
     "text": [
      "dropping 0 out of 130 questions which exceed max sequence length\n",
      "dropping 0 out of 16 questions which exceed max sequence length\n"
     ]
    },
    {
     "name": "stderr",
     "output_type": "stream",
     "text": [
      "100%|██████████| 16/16 [00:00<00:00, 2791.43it/s]\n",
      "100%|██████████| 16/16 [00:00<00:00, 39130.53it/s]\n",
      "100%|██████████| 130/130 [00:00<00:00, 28243.01it/s]\n",
      "100%|██████████| 130/130 [00:00<00:00, 199072.48it/s]\n"
     ]
    },
    {
     "data": {
      "text/html": [
       "\n",
       "    <div>\n",
       "        <style>\n",
       "            /* Turns off some styling */\n",
       "            progress {\n",
       "                /* gets rid of default border in Firefox and Opera. */\n",
       "                border: none;\n",
       "                /* Needs to be in here for Safari polyfill so background images work as expected. */\n",
       "                background-size: auto;\n",
       "            }\n",
       "            .progress-bar-interrupted, .progress-bar-interrupted::-webkit-progress-bar {\n",
       "                background: #F44336;\n",
       "            }\n",
       "        </style>\n",
       "      <progress value='0' class='' max='2', style='width:300px; height:20px; vertical-align: middle;'></progress>\n",
       "      \n",
       "    </div>\n",
       "    \n"
      ],
      "text/plain": [
       "<IPython.core.display.HTML object>"
      ]
     },
     "metadata": {},
     "output_type": "display_data"
    },
    {
     "data": {
      "text/html": [
       "<table border=\"1\" class=\"dataframe\">\n",
       "  <thead>\n",
       "    <tr style=\"text-align: left;\">\n",
       "      <th>epoch</th>\n",
       "      <th>train_loss</th>\n",
       "      <th>train_acc_qa</th>\n",
       "      <th>train_acc_pos</th>\n",
       "      <th>train_exact_match</th>\n",
       "      <th>train_f1_score</th>\n",
       "      <th>valid_loss</th>\n",
       "      <th>valid_acc_qa</th>\n",
       "      <th>valid_acc_pos</th>\n",
       "      <th>valid_exact_match</th>\n",
       "      <th>valid_f1_score</th>\n",
       "      <th>time</th>\n",
       "    </tr>\n",
       "  </thead>\n",
       "  <tbody>\n",
       "    <tr>\n",
       "      <td>0</td>\n",
       "      <td>1.772213</td>\n",
       "      <td>0.823077</td>\n",
       "      <td>0.907692</td>\n",
       "      <td>0.730769</td>\n",
       "      <td>0.891095</td>\n",
       "      <td>3.287183</td>\n",
       "      <td>0.531250</td>\n",
       "      <td>0.937500</td>\n",
       "      <td>0.312500</td>\n",
       "      <td>0.739148</td>\n",
       "      <td>01:22</td>\n",
       "    </tr>\n",
       "    <tr>\n",
       "      <td>1</td>\n",
       "      <td>1.174263</td>\n",
       "      <td>0.888462</td>\n",
       "      <td>0.953846</td>\n",
       "      <td>0.807692</td>\n",
       "      <td>0.945109</td>\n",
       "      <td>3.376726</td>\n",
       "      <td>0.531250</td>\n",
       "      <td>0.937500</td>\n",
       "      <td>0.312500</td>\n",
       "      <td>0.726648</td>\n",
       "      <td>01:33</td>\n",
       "    </tr>\n",
       "  </tbody>\n",
       "</table>"
      ],
      "text/plain": [
       "<IPython.core.display.HTML object>"
      ]
     },
     "metadata": {},
     "output_type": "display_data"
    },
    {
     "name": "stderr",
     "output_type": "stream",
     "text": [
      "INFO:root:epoch 0 stats for iter 3 out of 33 iters are : {'loss': 0.9519554773966471, 'acc_qa': tensor(0.9167), 'acc_pos': tensor(0.9167), 'exact_match': tensor(0.8333), 'f1_score': 0.9660968660968661}\n",
      "INFO:root:epoch 0 stats for iter 6 out of 33 iters are : {'loss': 1.069935957590739, 'acc_qa': tensor(0.9167), 'acc_pos': tensor(0.8750), 'exact_match': tensor(0.8333), 'f1_score': 0.9677227625503487}\n",
      "INFO:root:epoch 0 stats for iter 9 out of 33 iters are : {'loss': 0.957691404554579, 'acc_qa': tensor(0.9167), 'acc_pos': tensor(0.8889), 'exact_match': tensor(0.8333), 'f1_score': 0.971988335206726}\n",
      "INFO:root:epoch 0 stats for iter 12 out of 33 iters are : {'loss': 1.7434021631876628, 'acc_qa': tensor(0.8542), 'acc_pos': tensor(0.8750), 'exact_match': tensor(0.7708), 'f1_score': 0.9193558347383778}\n",
      "INFO:root:epoch 0 stats for iter 15 out of 33 iters are : {'loss': 2.1085543314615887, 'acc_qa': tensor(0.8167), 'acc_pos': tensor(0.8833), 'exact_match': tensor(0.7167), 'f1_score': 0.8779119749967704}\n",
      "INFO:root:epoch 0 stats for iter 18 out of 33 iters are : {'loss': 2.1027130550808377, 'acc_qa': tensor(0.7917), 'acc_pos': tensor(0.8889), 'exact_match': tensor(0.6944), 'f1_score': 0.8598340532380494}\n",
      "INFO:root:epoch 0 stats for iter 21 out of 33 iters are : {'loss': 2.0296966916038874, 'acc_qa': tensor(0.7976), 'acc_pos': tensor(0.9048), 'exact_match': tensor(0.7024), 'f1_score': 0.8631910932516614}\n",
      "INFO:root:epoch 0 stats for iter 24 out of 33 iters are : {'loss': 2.019261360168457, 'acc_qa': tensor(0.8021), 'acc_pos': tensor(0.8958), 'exact_match': tensor(0.7083), 'f1_score': 0.8777559747111457}\n",
      "INFO:root:epoch 0 stats for iter 27 out of 33 iters are : {'loss': 1.923847339771412, 'acc_qa': tensor(0.8056), 'acc_pos': tensor(0.8981), 'exact_match': tensor(0.7130), 'f1_score': 0.875906545422253}\n",
      "INFO:root:epoch 0 stats for iter 30 out of 33 iters are : {'loss': 1.8270467122395833, 'acc_qa': tensor(0.8167), 'acc_pos': tensor(0.9083), 'exact_match': tensor(0.7250), 'f1_score': 0.885723298287435}\n",
      "INFO:root:epoch 0 stats for iter 33 out of 33 iters are : {'loss': 1.772212923490084, 'acc_qa': tensor(0.8231), 'acc_pos': tensor(0.9077), 'exact_match': tensor(0.7308), 'f1_score': 0.8910950103849828}\n",
      "INFO:root:epoch 1 stats for iter 3 out of 33 iters are : {'loss': 0.9015060265858968, 'acc_qa': tensor(0.9583), 'acc_pos': tensor(0.9167), 'exact_match': tensor(0.9167), 'f1_score': 0.9880952380952381}\n",
      "INFO:root:epoch 1 stats for iter 6 out of 33 iters are : {'loss': 0.6278693278630575, 'acc_qa': tensor(0.9792), 'acc_pos': tensor(0.9583), 'exact_match': tensor(0.9583), 'f1_score': 0.9940476190476191}\n",
      "INFO:root:epoch 1 stats for iter 9 out of 33 iters are : {'loss': 0.8467618094550239, 'acc_qa': tensor(0.9444), 'acc_pos': tensor(0.9444), 'exact_match': tensor(0.8889), 'f1_score': 0.9657287157287158}\n",
      "INFO:root:epoch 1 stats for iter 12 out of 33 iters are : {'loss': 0.8180081049601237, 'acc_qa': tensor(0.9583), 'acc_pos': tensor(0.9167), 'exact_match': tensor(0.9167), 'f1_score': 0.9742965367965368}\n",
      "INFO:root:epoch 1 stats for iter 15 out of 33 iters are : {'loss': 0.8431231180826823, 'acc_qa': tensor(0.9500), 'acc_pos': tensor(0.9333), 'exact_match': tensor(0.9000), 'f1_score': 0.9720298220298219}\n",
      "INFO:root:epoch 1 stats for iter 18 out of 33 iters are : {'loss': 0.9013949500189887, 'acc_qa': tensor(0.9375), 'acc_pos': tensor(0.9444), 'exact_match': tensor(0.8750), 'f1_score': 0.9672779381112713}\n",
      "INFO:root:epoch 1 stats for iter 21 out of 33 iters are : {'loss': 0.8995963505336216, 'acc_qa': tensor(0.9226), 'acc_pos': tensor(0.9524), 'exact_match': tensor(0.8571), 'f1_score': 0.969053967656452}\n",
      "INFO:root:epoch 1 stats for iter 24 out of 33 iters are : {'loss': 1.218428611755371, 'acc_qa': tensor(0.9062), 'acc_pos': tensor(0.9375), 'exact_match': tensor(0.8333), 'f1_score': 0.9543205986373801}\n",
      "INFO:root:epoch 1 stats for iter 27 out of 33 iters are : {'loss': 1.1671124211064092, 'acc_qa': tensor(0.9074), 'acc_pos': tensor(0.9444), 'exact_match': tensor(0.8333), 'f1_score': 0.9554679170828339}\n",
      "INFO:root:epoch 1 stats for iter 30 out of 33 iters are : {'loss': 1.2110216776529947, 'acc_qa': tensor(0.8875), 'acc_pos': tensor(0.9500), 'exact_match': tensor(0.8083), 'f1_score': 0.9435999880189304}\n",
      "INFO:root:epoch 1 stats for iter 33 out of 33 iters are : {'loss': 1.1742627657376803, 'acc_qa': tensor(0.8885), 'acc_pos': tensor(0.9538), 'exact_match': tensor(0.8077), 'f1_score': 0.9451090959255203}\n"
     ]
    }
   ],
   "source": [
    "#export\n",
    "if __name__ == \"__main__\":\n",
    "    fire.Fire(main)"
   ]
  },
  {
   "cell_type": "code",
   "execution_count": null,
   "metadata": {},
   "outputs": [],
   "source": []
  }
 ],
 "metadata": {
  "kernelspec": {
   "display_name": "Python 3",
   "language": "python",
   "name": "python3"
  },
  "language_info": {
   "codemirror_mode": {
    "name": "ipython",
    "version": 3
   },
   "file_extension": ".py",
   "mimetype": "text/x-python",
   "name": "python",
   "nbconvert_exporter": "python",
   "pygments_lexer": "ipython3",
   "version": "3.7.5"
  }
 },
 "nbformat": 4,
 "nbformat_minor": 2
}
