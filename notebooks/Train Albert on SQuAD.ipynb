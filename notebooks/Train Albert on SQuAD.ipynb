{
 "cells": [
  {
   "cell_type": "markdown",
   "metadata": {},
   "source": [
    "# Using ALBERT for Question Answering - SQuAD"
   ]
  },
  {
   "cell_type": "code",
   "execution_count": 1,
   "metadata": {
    "ExecuteTime": {
     "end_time": "2020-02-06T00:07:54.688316Z",
     "start_time": "2020-02-06T00:07:54.686440Z"
    }
   },
   "outputs": [],
   "source": [
    "#export\n",
    "import os"
   ]
  },
  {
   "cell_type": "code",
   "execution_count": 2,
   "metadata": {
    "ExecuteTime": {
     "end_time": "2020-02-06T00:07:55.302598Z",
     "start_time": "2020-02-06T00:07:55.300353Z"
    }
   },
   "outputs": [],
   "source": [
    "os.chdir(\"../\")"
   ]
  },
  {
   "cell_type": "code",
   "execution_count": 3,
   "metadata": {
    "ExecuteTime": {
     "end_time": "2020-02-03T17:42:53.355595Z",
     "start_time": "2020-02-03T17:42:52.410125Z"
    },
    "scrolled": true
   },
   "outputs": [],
   "source": [
    "#export\n",
    "from transformers import AutoTokenizer,PretrainedConfig\n",
    "import numpy as np\n",
    "import pandas as pd\n",
    "import pickle\n",
    "import re\n",
    "import requests\n",
    "import json\n",
    "from src import *\n",
    "import fire"
   ]
  },
  {
   "cell_type": "markdown",
   "metadata": {},
   "source": [
    "# Loading the data"
   ]
  },
  {
   "cell_type": "code",
   "execution_count": 4,
   "metadata": {
    "ExecuteTime": {
     "end_time": "2020-02-03T17:43:09.273451Z",
     "start_time": "2020-02-03T17:43:08.263277Z"
    }
   },
   "outputs": [],
   "source": [
    "#export\n",
    "def load_dfs(config):\n",
    "    train = pd.read_csv(config.data_path+f\"/train_{config.squad_version}_{config.model_name}.csv\")\n",
    "    valid = pd.read_csv(config.data_path+f\"/val_{config.squad_version}_{config.model_name}.csv\")\n",
    "\n",
    "    train.drop_duplicates(inplace=True)\n",
    "    valid.drop_duplicates(inplace=True)\n",
    "\n",
    "    # randomizing the order of training data\n",
    "    train = train.sample(frac=1).reset_index(drop=True) #random_state = config.seed\n",
    "    valid = valid.sample(frac=1).reset_index(drop=True)\n",
    "\n",
    "    # reduce df sizes if testing\n",
    "    if config.testing:\n",
    "        train = train[:int(len(train)/config.data_reduction)]\n",
    "        valid = valid[:int(len(valid)/config.data_reduction)]\n",
    "\n",
    "    return remove_max_sl(train, config.max_seq_len), remove_max_sl(valid, config.max_seq_len)"
   ]
  },
  {
   "cell_type": "markdown",
   "metadata": {},
   "source": [
    "# Creating Dataloaders"
   ]
  },
  {
   "cell_type": "code",
   "execution_count": 5,
   "metadata": {
    "ExecuteTime": {
     "end_time": "2020-02-03T17:43:09.899469Z",
     "start_time": "2020-02-03T17:43:09.692930Z"
    }
   },
   "outputs": [],
   "source": [
    "#export\n",
    "def make_dataloaders(config, train_df, valid_df):\n",
    "    tok = AutoTokenizer.from_pretrained(config.model)\n",
    "    \n",
    "    proc_tok = QATokenizerProcessor(tok.tokenize, config.max_seq_len, config.start_tok, config.end_tok)\n",
    "\n",
    "    vocab = {tok.convert_ids_to_tokens(i):i for i in range(tok.vocab_size)}\n",
    "    proc_num = QANumericalizeProcessor(vocab, unk_tok_idx=config.unk_idx)\n",
    "    proc_qa = QALabelProcessor(str2tensor,config.adjustment)\n",
    "\n",
    "    if (not (os.path.exists(config.data_path+f\"/squad_{config.squad_version}_data_trn.pkl\"))) or config.recreate_ds or config.testing:\n",
    "        il_train = SquadTextList.from_df(train_df,config.feat_cols,config.label_cols,config.sep_tok)\n",
    "        il_valid = SquadTextList.from_df(valid_df,config.feat_cols,config.label_cols,config.sep_tok)\n",
    "\n",
    "        ll_valid = LabeledData(il_valid,il_valid.labels,proc_x = [proc_tok,proc_num], proc_y=[proc_qa])\n",
    "        ll_train = LabeledData(il_train,il_train.labels,proc_x = [proc_tok,proc_num], proc_y=[proc_qa])\n",
    "\n",
    "        # saving/loading presaved data if not testing\n",
    "        if not config.testing:\n",
    "            # save an object\n",
    "            pickle.dump(ll_train, open( config.data_path+f\"/squad_{config.squad_version}_data_trn.pkl\", \"wb\" ) )\n",
    "            pickle.dump(ll_valid, open( config.data_path+f\"/squad_{config.squad_version}_data_val.pkl\", \"wb\" ) )\n",
    "    else:\n",
    "        # load an object\n",
    "        ll_train = pickle.load( open( config.data_path+f\"/squad_{config.squad_version}_data_trn.pkl\", \"rb\" ) )\n",
    "        ll_valid = pickle.load( open( config.data_path+f\"/squad_{config.squad_version}_data_val.pkl\", \"rb\" ) )\n",
    "\n",
    "    collate_fn = partial(pad_collate_qa,pad_idx=config.pad_idx)\n",
    "    \n",
    "    train_sampler = SortishSampler(ll_train.x, key=lambda t: len(ll_train[int(t)][0]), bs=config.bs)\n",
    "    train_dl = DataLoader(ll_train, batch_size=config.bs, sampler=train_sampler, collate_fn=collate_fn)\n",
    "    \n",
    "    valid_sampler = SortSampler(ll_valid.x, key=lambda t: len(ll_valid[int(t)][0]))\n",
    "    valid_dl = DataLoader(ll_valid, batch_size=config.bs, sampler=valid_sampler, collate_fn=collate_fn)\n",
    "\n",
    "    return DataBunch(train_dl,valid_dl)"
   ]
  },
  {
   "cell_type": "markdown",
   "metadata": {},
   "source": [
    "# Defining Model & Learner"
   ]
  },
  {
   "cell_type": "code",
   "execution_count": 6,
   "metadata": {
    "ExecuteTime": {
     "start_time": "2020-02-03T17:43:07.934Z"
    }
   },
   "outputs": [],
   "source": [
    "#export\n",
    "def get_learner(config, data, opt_func):\n",
    "    model_kwargs = {\"pretrained_model_name_or_path\": config.weights}\n",
    "    \n",
    "    if not config.load_checkpoint: model_kwargs[\"askai_config\"] = config\n",
    "    model = AlbertForQuestionAnsweringMTL.from_pretrained(**model_kwargs)\n",
    "\n",
    "    # setting up callbacks\n",
    "    cbfs = [partial(QAAvgStatsCallback,[acc_qa,acc_pos,exact_match,f1_score]),\n",
    "            ProgressCallback,\n",
    "            Recorder]\n",
    "    \n",
    "    if torch.cuda.is_available(): cbfs.append(CudaCallbackMTL)\n",
    "\n",
    "    if not config.testing and config.save_checkpoint:\n",
    "        cbfs.append(partial(SaveModelCallback,save_model_qa,config.output_dir,config.model,config.squad_version))\n",
    "\n",
    "    if config.effective_bs and config.bs != config.effective_bs:\n",
    "        cbfs.append(partial(GradientAccumulation,config.bs,config.effective_bs))\n",
    "\n",
    "    if config.stats_update_freq is not None: cbfs.append(partial(TrainStatsCallback,config.stats_update_freq))\n",
    "\n",
    "    learn = Learner(model, data, cross_entropy_qa_mtl,lr=config.max_lr,cb_funcs=cbfs,splitter=albert_splitter,\\\n",
    "                opt_func=opt_func)\n",
    "    return learn"
   ]
  },
  {
   "cell_type": "code",
   "execution_count": 7,
   "metadata": {},
   "outputs": [],
   "source": [
    "config = Config(\n",
    "    data_path = \"../data/SQuAD/2.0\", # replace with the directory containing the parsed csv files\n",
    "    output_dir = \"./models\", # for storing model weights between epochs\n",
    "    task = \"SQuAD\",\n",
    "    squad_version = \"2.0\",\n",
    "    testing=True,\n",
    "    data_reduction = 1000, # reduce df sizes by this amount while testing \n",
    "    seed = 2020,\n",
    "    model = \"albert-base-v2\",\n",
    "    max_lr=3e-5,\n",
    "    max_lr_last = 1e-4,\n",
    "    phases = .3,\n",
    "    optimizer=\"lamb\", # choose between 'adam' or 'lamb'\n",
    "    epochs=1,\n",
    "    use_fp16=False,\n",
    "    recreate_ds=False,\n",
    "    bs=4, \n",
    "    effective_bs=4, # set this different from bs to determine gradient accumulation steps (i.e. effective_bs/bs)\n",
    "    max_seq_len=512,\n",
    "    start_tok = \"[CLS]\",\n",
    "    end_tok = \"[SEP]\",\n",
    "    sep_tok = \"[SEP]\",\n",
    "    unk_idx=1,\n",
    "    sep_idx=3,\n",
    "    pad_idx=0,\n",
    "    feat_cols = [\"question\",\"paragraph\"],\n",
    "    label_cols = [\"idxs\",\"is_impossible\"],\n",
    "    adjustment = 2,\n",
    "    save_checkpoint = True,\n",
    "    load_checkpoint=\"2.0/base\",\n",
    "    num_labels_clas = 2,\n",
    "    clas_dropout_prob = .1,\n",
    "    stats_update_freq = .1,\n",
    ")"
   ]
  },
  {
   "cell_type": "code",
   "execution_count": 8,
   "metadata": {},
   "outputs": [],
   "source": [
    "#export\n",
    "def main(config):\n",
    "    if isinstance(config, str): config = Config(**json.load(open(config,\"r\")))\n",
    "    assert type(config) == Config, f\"config parameter type must be Config or a path to a json file\"\n",
    "    if config.effective_bs: \n",
    "        assert config.effective_bs >= config.bs, f\"mini bs ({config.bs}) cannot be smaller than effective bs ({config.effective_bs})\"\n",
    "        assert config.effective_bs % config.bs == 0, \"mini bs ({config.bs}) should be a factor of the effective bs ({config.effective_bs})\"\n",
    "    \n",
    "    config.model_name=re.findall(r\"(.+?)-\",config.model)[0]\n",
    "    config.weights=config.output_dir+f\"/{config.load_checkpoint}\" if config.load_checkpoint else config.model\n",
    "\n",
    "    train,valid = load_dfs(config)\n",
    "    data = make_dataloaders(config, train, valid)\n",
    "\n",
    "    # set LR scheduler\n",
    "    disc_lr_sched = sched_1cycle([config.max_lr,config.max_lr_last], config.phases)\n",
    "\n",
    "    # set optimizer\n",
    "    assert config.optimizer.lower() in [\"adam\",\"lamb\"], f\"invalid optimizer in config {config.optimizer}\"\n",
    "    opt_func = lamb_opt() if config.optimizer.lower() == \"lamb\" else adam_opt()\n",
    "\n",
    "    learn = get_learner(config, data, opt_func)\n",
    "    learn.fit(config.epochs,cbs=disc_lr_sched)"
   ]
  },
  {
   "cell_type": "code",
   "execution_count": 9,
   "metadata": {},
   "outputs": [
    {
     "name": "stdout",
     "output_type": "stream",
     "text": [
      "dropping 0 out of 130 questions which exceed max sequence length\n",
      "dropping 0 out of 16 questions which exceed max sequence length\n"
     ]
    },
    {
     "name": "stderr",
     "output_type": "stream",
     "text": [
      "100%|██████████| 16/16 [00:00<00:00, 2361.33it/s]\n",
      "100%|██████████| 16/16 [00:00<00:00, 33773.96it/s]\n",
      "100%|██████████| 130/130 [00:00<00:00, 21234.50it/s]\n",
      "100%|██████████| 130/130 [00:00<00:00, 166695.05it/s]\n"
     ]
    },
    {
     "data": {
      "text/html": [
       "\n",
       "    <div>\n",
       "        <style>\n",
       "            /* Turns off some styling */\n",
       "            progress {\n",
       "                /* gets rid of default border in Firefox and Opera. */\n",
       "                border: none;\n",
       "                /* Needs to be in here for Safari polyfill so background images work as expected. */\n",
       "                background-size: auto;\n",
       "            }\n",
       "            .progress-bar-interrupted, .progress-bar-interrupted::-webkit-progress-bar {\n",
       "                background: #F44336;\n",
       "            }\n",
       "        </style>\n",
       "      <progress value='0' class='' max='1', style='width:300px; height:20px; vertical-align: middle;'></progress>\n",
       "      \n",
       "    </div>\n",
       "    \n"
      ],
      "text/plain": [
       "<IPython.core.display.HTML object>"
      ]
     },
     "metadata": {},
     "output_type": "display_data"
    },
    {
     "data": {
      "text/html": [
       "<table border=\"1\" class=\"dataframe\">\n",
       "  <thead>\n",
       "    <tr style=\"text-align: left;\">\n",
       "      <th>epoch</th>\n",
       "      <th>train_loss</th>\n",
       "      <th>train_acc_qa</th>\n",
       "      <th>train_acc_pos</th>\n",
       "      <th>train_exact_match</th>\n",
       "      <th>train_f1_score</th>\n",
       "      <th>valid_loss</th>\n",
       "      <th>valid_acc_qa</th>\n",
       "      <th>valid_acc_pos</th>\n",
       "      <th>valid_exact_match</th>\n",
       "      <th>valid_f1_score</th>\n",
       "      <th>time</th>\n",
       "    </tr>\n",
       "  </thead>\n",
       "  <tbody>\n",
       "    <tr>\n",
       "      <td>0</td>\n",
       "      <td>10.797071</td>\n",
       "      <td>0.007692</td>\n",
       "      <td>0.646154</td>\n",
       "      <td>0.000000</td>\n",
       "      <td>0.030454</td>\n",
       "      <td>11.079236</td>\n",
       "      <td>0.000000</td>\n",
       "      <td>0.812500</td>\n",
       "      <td>0.000000</td>\n",
       "      <td>0.000000</td>\n",
       "      <td>01:13</td>\n",
       "    </tr>\n",
       "  </tbody>\n",
       "</table>"
      ],
      "text/plain": [
       "<IPython.core.display.HTML object>"
      ]
     },
     "metadata": {},
     "output_type": "display_data"
    },
    {
     "name": "stderr",
     "output_type": "stream",
     "text": [
      "INFO:root:epoch 0 stats for iter 3 out of 33 iters are : {'loss': 11.637975056966146, 'acc_qa': tensor(0.), 'acc_pos': tensor(0.5833), 'exact_match': tensor(0.), 'f1_score': 0.050281954887218046}\n",
      "INFO:root:epoch 0 stats for iter 6 out of 33 iters are : {'loss': 11.129435221354166, 'acc_qa': tensor(0.0208), 'acc_pos': tensor(0.6667), 'exact_match': tensor(0.), 'f1_score': 0.04029249259512418}\n",
      "INFO:root:epoch 0 stats for iter 9 out of 33 iters are : {'loss': 10.944547865125868, 'acc_qa': tensor(0.0139), 'acc_pos': tensor(0.6667), 'exact_match': tensor(0.), 'f1_score': 0.03423671866266184}\n",
      "INFO:root:epoch 0 stats for iter 12 out of 33 iters are : {'loss': 10.899728139241537, 'acc_qa': tensor(0.0104), 'acc_pos': tensor(0.6250), 'exact_match': tensor(0.), 'f1_score': 0.027270061971098297}\n",
      "INFO:root:epoch 0 stats for iter 15 out of 33 iters are : {'loss': 10.806610107421875, 'acc_qa': tensor(0.0083), 'acc_pos': tensor(0.6500), 'exact_match': tensor(0.), 'f1_score': 0.03095207163424901}\n",
      "INFO:root:epoch 0 stats for iter 18 out of 33 iters are : {'loss': 10.91627926296658, 'acc_qa': tensor(0.0069), 'acc_pos': tensor(0.6528), 'exact_match': tensor(0.), 'f1_score': 0.029329362924797247}\n",
      "INFO:root:epoch 0 stats for iter 21 out of 33 iters are : {'loss': 10.848873320079985, 'acc_qa': tensor(0.0060), 'acc_pos': tensor(0.6548), 'exact_match': tensor(0.), 'f1_score': 0.030143378582322283}\n",
      "INFO:root:epoch 0 stats for iter 24 out of 33 iters are : {'loss': 10.85140864054362, 'acc_qa': tensor(0.0052), 'acc_pos': tensor(0.6458), 'exact_match': tensor(0.), 'f1_score': 0.033927180397463036}\n",
      "INFO:root:epoch 0 stats for iter 27 out of 33 iters are : {'loss': 10.836667661313657, 'acc_qa': tensor(0.0046), 'acc_pos': tensor(0.6574), 'exact_match': tensor(0.), 'f1_score': 0.030962646665699832}\n",
      "INFO:root:epoch 0 stats for iter 30 out of 33 iters are : {'loss': 10.849639892578125, 'acc_qa': tensor(0.0083), 'acc_pos': tensor(0.6417), 'exact_match': tensor(0.), 'f1_score': 0.029377371010118856}\n",
      "INFO:root:epoch 0 stats for iter 33 out of 33 iters are : {'loss': 10.797071251502404, 'acc_qa': tensor(0.0077), 'acc_pos': tensor(0.6462), 'exact_match': tensor(0.), 'f1_score': 0.030453755576292055}\n"
     ]
    }
   ],
   "source": [
    "main(config) "
   ]
  },
  {
   "cell_type": "code",
   "execution_count": 10,
   "metadata": {
    "scrolled": true
   },
   "outputs": [
    {
     "name": "stderr",
     "output_type": "stream",
     "text": [
      "\u001b[1m\u001b[31mERROR: \u001b[0mThe function received no value for the required argument: config\n",
      "Usage: ipykernel_launcher.py CONFIG\n",
      "\n",
      "For detailed information on this command, run:\n",
      "  ipykernel_launcher.py --help\n"
     ]
    },
    {
     "ename": "FireExit",
     "evalue": "2",
     "output_type": "error",
     "traceback": [
      "An exception has occurred, use %tb to see the full traceback.\n",
      "\u001b[0;31mFireExit\u001b[0m\u001b[0;31m:\u001b[0m 2\n"
     ]
    },
    {
     "name": "stderr",
     "output_type": "stream",
     "text": [
      "/Users/devsharma/anaconda3/envs/fastai/lib/python3.7/site-packages/IPython/core/interactiveshell.py:3327: UserWarning: To exit: use 'exit', 'quit', or Ctrl-D.\n",
      "  warn(\"To exit: use 'exit', 'quit', or Ctrl-D.\", stacklevel=1)\n"
     ]
    }
   ],
   "source": [
    "#export\n",
    "if __name__ == \"__main__\":\n",
    "    fire.Fire(main)"
   ]
  },
  {
   "cell_type": "code",
   "execution_count": 3,
   "metadata": {
    "ExecuteTime": {
     "end_time": "2020-02-06T00:07:59.970706Z",
     "start_time": "2020-02-06T00:07:59.808110Z"
    }
   },
   "outputs": [
    {
     "name": "stdout",
     "output_type": "stream",
     "text": [
      "Converted notebooks/Train Albert on SQuAD.ipynb to train_albert_on_squad.py\r\n"
     ]
    }
   ],
   "source": [
    "! python scripts/notebook2script.py  notebooks/\"Train Albert on SQuAD.ipynb\""
   ]
  },
  {
   "cell_type": "code",
   "execution_count": null,
   "metadata": {},
   "outputs": [],
   "source": []
  }
 ],
 "metadata": {
  "kernelspec": {
   "display_name": "Python 3",
   "language": "python",
   "name": "python3"
  },
  "language_info": {
   "codemirror_mode": {
    "name": "ipython",
    "version": 3
   },
   "file_extension": ".py",
   "mimetype": "text/x-python",
   "name": "python",
   "nbconvert_exporter": "python",
   "pygments_lexer": "ipython3",
   "version": "3.7.3"
  }
 },
 "nbformat": 4,
 "nbformat_minor": 2
}
